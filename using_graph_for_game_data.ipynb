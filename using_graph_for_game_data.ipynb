{
 "cells": [
  {
   "cell_type": "markdown",
   "metadata": {},
   "source": [
    "This notebook:\n",
    "- creates a graph similar to one that would be created during the game (using networkx)\n",
    "- visualizes the graph (using matplotlib)\n",
    "- searches the graph for sentences (the notebook was used to develop the algorithm for this)"
   ]
  },
  {
   "cell_type": "code",
   "execution_count": 15,
   "metadata": {
    "collapsed": false,
    "deletable": true,
    "editable": true
   },
   "outputs": [],
   "source": [
    "# Import libraries\n",
    "import networkx as nx\n",
    "import random\n",
    "import matplotlib.pyplot as plt\n",
    "\n",
    "# Temp sentences\n",
    "sentences = [\n",
    "['one', 'two', 'three'],\n",
    "['two', 'three', 'four'],\n",
    "['three', 'four', 'five']\n",
    "]\n",
    "\n",
    "# Create a new graph\n",
    "graph = nx.MultiGraph()"
   ]
  },
  {
   "cell_type": "code",
   "execution_count": 16,
   "metadata": {
    "collapsed": false,
    "deletable": true,
    "editable": true
   },
   "outputs": [],
   "source": [
    "#Functions and for loop to randomly add some nodes and edges to the graph.\n",
    "# This emulates the graph that would be created during the game.\n",
    "\n",
    "def get_new_word():\n",
    "    sentence = sentences[random.randrange(0, len(sentences))]\n",
    "    word = sentence[random.randrange(0, len(sentence))]\n",
    "    ##print 'get new word returns : ', word\n",
    "    return word\n",
    "\n",
    "class WordObject():\n",
    "    def __init__(self, word):\n",
    "        self.word = word\n",
    "\n",
    "def add_object_to_graph(graph, new_object):\n",
    "    #add new word\n",
    "    graph.add_node(new_object, word=new_object.word)\n",
    "    return graph\n",
    "    \n",
    "def add_collision(graph, new_object):\n",
    "    #get a random existing node for new word to 'collide' with\n",
    "    collides_with_index = random.randrange(0, graph.number_of_nodes(), 1)\n",
    "    collides_with = graph.nodes()[collides_with_index]\n",
    "    #add edge between the two\n",
    "    ##print 'add edge ', new_object.word, collides_with.word\n",
    "    graph.add_edge(new_object, collides_with)\n",
    "    return graph\n",
    "\n",
    "for i in range(0, 30):\n",
    "    word = get_new_word()\n",
    "    new_object = WordObject(word)\n",
    "    graph = add_object_to_graph(graph, new_object)\n",
    "    graph = add_collision(graph, new_object)"
   ]
  },
  {
   "cell_type": "code",
   "execution_count": 17,
   "metadata": {
    "collapsed": false,
    "deletable": true,
    "editable": true
   },
   "outputs": [
    {
     "data": {
      "image/png": "[encoded data removed]",
      "text/plain": [
       "<matplotlib.figure.Figure at 0x7fca2dcc8150>"
      ]
     },
     "metadata": {},
     "output_type": "display_data"
    }
   ],
   "source": [
    "#Draw the graph\n",
    "labels = nx.get_node_attributes(graph, 'word')\n",
    "nx.draw_networkx(graph, labels=labels)\n",
    "plt.show()"
   ]
  },
  {
   "cell_type": "code",
   "execution_count": 18,
   "metadata": {
    "collapsed": false,
    "deletable": true,
    "editable": true
   },
   "outputs": [],
   "source": [
    " \"\"\"\n",
    "look_through takes a list of nodes (neighbors of the previous node which match the previous word\n",
    "in the sentence), a sentence, i representing the position in the sentence of the previous word.\n",
    "If the list of nodes is empty, it returns 0\n",
    "If the list of nodes is not empty, and it represents the last word of the sentence, it returns a \n",
    "node from the list\n",
    "If the list is not empty, and it doesn't represent the last word of the sentence, it iterates\n",
    "through the nodes in the lsit and gets a list of neighboring nodes matching the next word in the \n",
    "sentence.  Then it calls itself with that list\n",
    "\"\"\"\n",
    "def look_through_neighbors(neighbors, i, sentence):\n",
    "    i += 1  \n",
    "    \n",
    "    if len(neighbors) == 0: #input list empty (no matching neighbors for previous node)\n",
    "        return 0\n",
    "    \n",
    "    elif len(neighbors) > 0 and i == len(sentence): #nodes in input list (representing last word) -> send one back\n",
    "        return [neighbors[0]]\n",
    "    \n",
    "    elif len(neighbors) > 0: #input list not empty, there are matching neighbors\n",
    "        # for each neighbor, get its neighbors which match the next word\n",
    "        # call look through on those \n",
    "        for neighbor in neighbors:\n",
    "            matching_neighbors = [node for node in graph.neighbors(neighbor) if node.word == sentence[i]] \n",
    "            match = look_through_neighbors(matching_neighbors, i, sentence)\n",
    "            if isinstance(match, list): #use instance not type more robust/extensible/pythonic\n",
    "                match.append(neighbor)\n",
    "                return match\n",
    "            \n",
    "        \n"
   ]
  },
  {
   "cell_type": "code",
   "execution_count": 19,
   "metadata": {
    "collapsed": false,
    "deletable": true,
    "editable": true
   },
   "outputs": [
    {
     "name": "stdout",
     "output_type": "stream",
     "text": [
      "the nodes  [<__main__.WordObject instance at 0x7fca2f1ff128>, <__main__.WordObject instance at 0x7fca2dd09dd0>, <__main__.WordObject instance at 0x7fca2dbae128>]  make a sentence of the following words:\n",
      "three\n",
      "two\n",
      "one\n"
     ]
    }
   ],
   "source": [
    "for sentence in sentences:\n",
    "    i = 0\n",
    "    start_nodes = [node for node in graph.nodes() if node.word == sentence[i]] \n",
    "    match = look_through_neighbors(start_nodes, i, sentence)\n",
    "    if match: \n",
    "        print 'the nodes ', match, ' make a sentence of the following words:'\n",
    "        for item in match:\n",
    "            print item.word\n",
    "            \n"
   ]
  },
  {
   "cell_type": "code",
   "execution_count": null,
   "metadata": {
    "collapsed": true,
    "deletable": true,
    "editable": true
   },
   "outputs": [],
   "source": []
  }
 ],
 "metadata": {
  "anaconda-cloud": {},
  "kernelspec": {
   "display_name": "Python 2",
   "language": "python",
   "name": "python2"
  },
  "language_info": {
   "codemirror_mode": {
    "name": "ipython",
    "version": 2
   },
   "file_extension": ".py",
   "mimetype": "text/x-python",
   "name": "python",
   "nbconvert_exporter": "python",
   "pygments_lexer": "ipython2",
   "version": "2.7.12"
  }
 },
 "nbformat": 4,
 "nbformat_minor": 1
}
